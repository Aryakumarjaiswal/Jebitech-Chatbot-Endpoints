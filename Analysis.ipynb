{
 "cells": [
  {
   "cell_type": "code",
   "execution_count": 1,
   "id": "805ffe6d-fbc6-4782-bebc-4209fa03cad4",
   "metadata": {},
   "outputs": [],
   "source": [
    "# !python.exe -m pip install --upgrade pip\n",
    "# !pip install xlrd\n"
   ]
  },
  {
   "cell_type": "markdown",
   "id": "692a572d-a1b5-4b5d-a816-2e82ea08e288",
   "metadata": {},
   "source": [
    "# Breezeaway Analysis"
   ]
  },
  {
   "cell_type": "code",
   "execution_count": 2,
   "id": "a3fc59f6-ee3c-4f60-a8a8-c7aa9c9a9435",
   "metadata": {},
   "outputs": [],
   "source": [
    "import seaborn as sns\n",
    "import matplotlib.pyplot as plt\n",
    "import pandas as pd\n",
    "\n",
    "df1 = pd.read_excel(\"breezeway listing 10.xls\", engine=\"xlrd\")#Total columns:29,all columns except 4 columns: 'property_status', 'date_of_first_scrape',\n",
    "                                                            #'date_of_last_scrape' and 'date_of_last_update' were marked red\n",
    "\n",
    "df2 = pd.read_excel(\"breezeway reservations.xls\",engine=\"xlrd\")#Total columns:36\n",
    "df3=pd.read_excel(\"breezeway task.xls\",engine='xlrd')#Total columns:40\n",
    "\n",
    "brz_listing=set(df1.columns)\n",
    "brz_rese=set(df2.columns)\n",
    "brz_task=set(df3.columns)"
   ]
  },
  {
   "cell_type": "code",
   "execution_count": 3,
   "id": "55b2c637-a5e9-42df-9096-33e4afe611b2",
   "metadata": {},
   "outputs": [
    {
     "data": {
      "text/plain": [
       "(17, 47)"
      ]
     },
     "execution_count": 3,
     "metadata": {},
     "output_type": "execute_result"
    }
   ],
   "source": [
    "df1.shape"
   ]
  },
  {
   "cell_type": "code",
   "execution_count": 4,
   "id": "75d72e9d-a105-4546-ae22-e6c2852700cb",
   "metadata": {},
   "outputs": [],
   "source": [
    "#brz_listing"
   ]
  },
  {
   "cell_type": "markdown",
   "id": "a838d348-b5d3-4f88-b3a7-e6622fcb281b",
   "metadata": {},
   "source": [
    "# 1.common columns in all 3 excel sheet of breezeaway:"
   ]
  },
  {
   "cell_type": "code",
   "execution_count": 5,
   "id": "f4fd2baa-61d4-4e7b-96c9-a351bd125076",
   "metadata": {},
   "outputs": [
    {
     "data": {
      "text/plain": [
       "{'date_of_first_scrape',\n",
       " 'date_of_last_scrape',\n",
       " 'date_of_last_update',\n",
       " 'id',\n",
       " 'reference_property_id'}"
      ]
     },
     "execution_count": 5,
     "metadata": {},
     "output_type": "execute_result"
    }
   ],
   "source": [
    "\n",
    "brz_task.intersection( brz_rese ,brz_listing)"
   ]
  },
  {
   "cell_type": "markdown",
   "id": "7a2e9120-8d3e-480d-a831-15172a7b61e5",
   "metadata": {},
   "source": [
    "# Below are common columns in\n",
    "- breezeway listing 10\n",
    "- breezeway reservations\n",
    "- breezeway task\n",
    "\n",
    "  \n",
    "{'date_of_first_scrape',\n",
    " 'date_of_last_scrape',\n",
    " 'date_of_last_update',\n",
    " 'id',\n",
    " 'reference_property_id'}"
   ]
  },
  {
   "cell_type": "markdown",
   "id": "e01505ff-f3d6-4015-a6d9-e370e2af3a36",
   "metadata": {},
   "source": [
    "## id\n"
   ]
  },
  {
   "cell_type": "code",
   "execution_count": 6,
   "id": "dd3334b9-29f4-4e70-9e6e-0a9c0f2bd800",
   "metadata": {},
   "outputs": [
    {
     "data": {
      "text/plain": [
       "set()"
      ]
     },
     "execution_count": 6,
     "metadata": {},
     "output_type": "execute_result"
    }
   ],
   "source": [
    "#no common values\n",
    "set(df1['id']) & set(df2['id']) & set(df3['id'])"
   ]
  },
  {
   "cell_type": "code",
   "execution_count": 7,
   "id": "1359de00-852c-4de0-9d5c-4fcc22294948",
   "metadata": {},
   "outputs": [
    {
     "data": {
      "text/plain": [
       "set()"
      ]
     },
     "execution_count": 7,
     "metadata": {},
     "output_type": "execute_result"
    }
   ],
   "source": [
    "set(df1['id']) & set(df2['id']) "
   ]
  },
  {
   "cell_type": "code",
   "execution_count": 8,
   "id": "f01d4b41-0c44-4938-92b7-332b8a3f1d16",
   "metadata": {},
   "outputs": [
    {
     "data": {
      "text/plain": [
       "set()"
      ]
     },
     "execution_count": 8,
     "metadata": {},
     "output_type": "execute_result"
    }
   ],
   "source": [
    "set(df1['id']) & set(df3['id']) "
   ]
  },
  {
   "cell_type": "code",
   "execution_count": 9,
   "id": "585b5349-aafa-46c8-9ae6-0b10f967c0f9",
   "metadata": {},
   "outputs": [
    {
     "data": {
      "text/plain": [
       "set()"
      ]
     },
     "execution_count": 9,
     "metadata": {},
     "output_type": "execute_result"
    }
   ],
   "source": [
    "set(df2['id']) & set(df3['id']) "
   ]
  },
  {
   "cell_type": "markdown",
   "id": "b9eccc5a-b472-4d7c-842d-c414fcdcc46e",
   "metadata": {},
   "source": [
    "## reference_property_id"
   ]
  },
  {
   "cell_type": "code",
   "execution_count": 10,
   "id": "7cfe914e-6c48-4272-9dbd-4041c52d8216",
   "metadata": {},
   "outputs": [
    {
     "data": {
      "text/plain": [
       "set()"
      ]
     },
     "execution_count": 10,
     "metadata": {},
     "output_type": "execute_result"
    }
   ],
   "source": [
    "#no common values\n",
    "set(df1['reference_property_id']) & set(df2['reference_property_id']) & set(df3['reference_property_id'])"
   ]
  },
  {
   "cell_type": "code",
   "execution_count": 11,
   "id": "95c51e07-3aa5-4020-951b-e6449a7f34ef",
   "metadata": {},
   "outputs": [
    {
     "data": {
      "text/plain": [
       "set()"
      ]
     },
     "execution_count": 11,
     "metadata": {},
     "output_type": "execute_result"
    }
   ],
   "source": [
    "set(df1['reference_property_id']) & set(df2['reference_property_id'])"
   ]
  },
  {
   "cell_type": "code",
   "execution_count": 12,
   "id": "afc73828-7a70-45d4-a707-af24d2cd3388",
   "metadata": {},
   "outputs": [
    {
     "data": {
      "text/plain": [
       "set()"
      ]
     },
     "execution_count": 12,
     "metadata": {},
     "output_type": "execute_result"
    }
   ],
   "source": [
    "set(df1['reference_property_id']) & set(df3['reference_property_id'])"
   ]
  },
  {
   "cell_type": "code",
   "execution_count": 13,
   "id": "0708ccb6-2581-459a-a66e-f90d18758128",
   "metadata": {},
   "outputs": [
    {
     "data": {
      "text/plain": [
       "set()"
      ]
     },
     "execution_count": 13,
     "metadata": {},
     "output_type": "execute_result"
    }
   ],
   "source": [
    " set(df2['reference_property_id'])  & set(df3['reference_property_id'])"
   ]
  },
  {
   "cell_type": "markdown",
   "id": "839e396a-f20f-4660-bfbe-cd34597d9331",
   "metadata": {},
   "source": [
    "## 2.Analysing common columns in  breezeaway_reservation & breezeaway_listing"
   ]
  },
  {
   "cell_type": "code",
   "execution_count": 14,
   "id": "4060fb7b-fe5b-42b9-ac89-0524a2ff4878",
   "metadata": {},
   "outputs": [
    {
     "data": {
      "text/plain": [
       "{'date_of_first_scrape',\n",
       " 'date_of_last_scrape',\n",
       " 'date_of_last_update',\n",
       " 'id',\n",
       " 'property_id',\n",
       " 'reference_external_property_id',\n",
       " 'reference_property_id'}"
      ]
     },
     "execution_count": 14,
     "metadata": {},
     "output_type": "execute_result"
    }
   ],
   "source": [
    "#Common columns in breezeaway_reservation & breezeaway_listing:\n",
    "brz_rese .intersection( brz_listing)"
   ]
  },
  {
   "cell_type": "code",
   "execution_count": 15,
   "id": "f2a8871e-68e6-4742-a51c-2c9f05533063",
   "metadata": {},
   "outputs": [
    {
     "data": {
      "text/plain": [
       "set()"
      ]
     },
     "execution_count": 15,
     "metadata": {},
     "output_type": "execute_result"
    }
   ],
   "source": [
    "set(df2['date_of_first_scrape']) & set(df1['date_of_first_scrape'])"
   ]
  },
  {
   "cell_type": "code",
   "execution_count": 16,
   "id": "f2f03505-e02c-4893-9d15-9b00af9162e1",
   "metadata": {},
   "outputs": [
    {
     "data": {
      "text/plain": [
       "set()"
      ]
     },
     "execution_count": 16,
     "metadata": {},
     "output_type": "execute_result"
    }
   ],
   "source": [
    "set(df2['date_of_last_scrape']) & set(df1['date_of_last_scrape']) "
   ]
  },
  {
   "cell_type": "code",
   "execution_count": 17,
   "id": "311ff5e3-2381-4b3d-adcd-a45985ec12db",
   "metadata": {},
   "outputs": [
    {
     "data": {
      "text/plain": [
       "set()"
      ]
     },
     "execution_count": 17,
     "metadata": {},
     "output_type": "execute_result"
    }
   ],
   "source": [
    "set(df2['date_of_last_update']) & set(df1['date_of_last_update']) "
   ]
  },
  {
   "cell_type": "code",
   "execution_count": 18,
   "id": "0a0be20d-91ae-4e74-93e1-110d8e3ec4bb",
   "metadata": {},
   "outputs": [
    {
     "data": {
      "text/plain": [
       "set()"
      ]
     },
     "execution_count": 18,
     "metadata": {},
     "output_type": "execute_result"
    }
   ],
   "source": [
    "set(df2['id']) & set(df1['id']) "
   ]
  },
  {
   "cell_type": "code",
   "execution_count": 19,
   "id": "15d99127-7a97-4202-bc9a-5888b9b65707",
   "metadata": {},
   "outputs": [
    {
     "data": {
      "text/plain": [
       "set()"
      ]
     },
     "execution_count": 19,
     "metadata": {},
     "output_type": "execute_result"
    }
   ],
   "source": [
    "#Analysing property_id values of breezeaway_reservation & breezeaway_listing:\n",
    "#\n",
    "set(df2['property_id']) & set(df1['property_id']) #No common values,only common column.\n"
   ]
  },
  {
   "cell_type": "code",
   "execution_count": 20,
   "id": "35d0e6a5-075f-4290-9184-08a578b3197c",
   "metadata": {},
   "outputs": [],
   "source": [
    "#No common values,only common column.\n"
   ]
  },
  {
   "cell_type": "code",
   "execution_count": 21,
   "id": "d821d1b5-3ba3-415a-9930-9fd83688e296",
   "metadata": {},
   "outputs": [
    {
     "data": {
      "text/plain": [
       "set()"
      ]
     },
     "execution_count": 21,
     "metadata": {},
     "output_type": "execute_result"
    }
   ],
   "source": [
    "#Analysing 'reference_external_property_id' values breezeaway_reservation & breezeaway_listing:\n",
    "set(df2['reference_external_property_id']) & set(df1['reference_external_property_id']) #No common values,only common column.\n"
   ]
  },
  {
   "cell_type": "code",
   "execution_count": 22,
   "id": "bc4b2d9e-e6f9-4e3d-ab26-503975f9eaa7",
   "metadata": {},
   "outputs": [
    {
     "data": {
      "text/plain": [
       "set()"
      ]
     },
     "execution_count": 22,
     "metadata": {},
     "output_type": "execute_result"
    }
   ],
   "source": [
    "#Analysing 'reference_property_id' values breezeaway_reservation & breezeaway_listing:\n",
    "set(df2['reference_property_id']) & set(df1['reference_property_id']) #No common values,only common column."
   ]
  },
  {
   "cell_type": "markdown",
   "id": "364b2a87-0b68-4157-85c9-08e53b61436b",
   "metadata": {},
   "source": [
    "## 3.Analysing common columns in breezeaway_reservation & breezeaway_task"
   ]
  },
  {
   "cell_type": "code",
   "execution_count": 23,
   "id": "1df5c06b-b064-4ee8-be0f-298d3ea47e9f",
   "metadata": {},
   "outputs": [
    {
     "data": {
      "text/plain": [
       "{'date_of_first_scrape',\n",
       " 'date_of_last_scrape',\n",
       " 'date_of_last_update',\n",
       " 'id',\n",
       " 'reference_property_id'}"
      ]
     },
     "execution_count": 23,
     "metadata": {},
     "output_type": "execute_result"
    }
   ],
   "source": [
    "brz_rese.intersection(brz_task)"
   ]
  },
  {
   "cell_type": "code",
   "execution_count": 24,
   "id": "1272b007-2b25-4e02-9675-698f87799c81",
   "metadata": {},
   "outputs": [
    {
     "data": {
      "text/plain": [
       "set()"
      ]
     },
     "execution_count": 24,
     "metadata": {},
     "output_type": "execute_result"
    }
   ],
   "source": [
    "set(df2[ 'reference_property_id']) & set(df3[ 'reference_property_id'])"
   ]
  },
  {
   "cell_type": "code",
   "execution_count": 25,
   "id": "84903399-8015-4ccc-8afd-86edd5197953",
   "metadata": {},
   "outputs": [
    {
     "data": {
      "text/plain": [
       "reference_property_id\n",
       "66c3d8574cde680013fd5470    5\n",
       "66c3d83f4e36be001066cb23    2\n",
       "66c3d8351bf0b1001314d62f    2\n",
       "66c3d82f1a35ac0013cc5e16    1\n",
       "Name: count, dtype: int64"
      ]
     },
     "execution_count": 25,
     "metadata": {},
     "output_type": "execute_result"
    }
   ],
   "source": [
    "df3[ 'reference_property_id'].value_counts()"
   ]
  },
  {
   "cell_type": "code",
   "execution_count": 26,
   "id": "017619fe-5fda-4f4c-b94e-bed73ede24b6",
   "metadata": {},
   "outputs": [
    {
     "data": {
      "text/plain": [
       "{'66c3d82f1a35ac0013cc5e16',\n",
       " '66c3d8351bf0b1001314d62f',\n",
       " '66c3d83f4e36be001066cb23',\n",
       " '66c3d8574cde680013fd5470'}"
      ]
     },
     "execution_count": 26,
     "metadata": {},
     "output_type": "execute_result"
    }
   ],
   "source": [
    "set(df3[ 'reference_property_id'])"
   ]
  },
  {
   "cell_type": "code",
   "execution_count": 27,
   "id": "a32bc521-0b63-4594-91ab-4137e81377a7",
   "metadata": {},
   "outputs": [
    {
     "data": {
      "text/plain": [
       "{'66bf692bc9bb5e00123f33cf',\n",
       " '66bf693fdc3d4c001359b942',\n",
       " '66bf9397df75c8001393b738',\n",
       " '66bf93b0fda8330013af8ac6',\n",
       " '66bf93bfd44b9a0013a265ca',\n",
       " '66bf93e03041f6000e115f1b',\n",
       " '66bfc1e66e92f80013cb4e80',\n",
       " '66bfc228fe98540012f3fb98',\n",
       " '66c01d01aaab2e0013c1c0b4',\n",
       " '66c01d042ed01c0013eaf24c'}"
      ]
     },
     "execution_count": 27,
     "metadata": {},
     "output_type": "execute_result"
    }
   ],
   "source": [
    "set(df2[ 'reference_property_id'])"
   ]
  },
  {
   "cell_type": "markdown",
   "id": "20927c62-89ea-475a-9e97-329997b6939f",
   "metadata": {},
   "source": [
    "# 4.Analysing common columns in  breezeaway_task & breezeaway_listing"
   ]
  },
  {
   "cell_type": "code",
   "execution_count": 28,
   "id": "2992059f-d74e-4762-9604-c54a959cf9ec",
   "metadata": {},
   "outputs": [
    {
     "data": {
      "text/plain": [
       "{'date_of_first_scrape',\n",
       " 'date_of_last_scrape',\n",
       " 'date_of_last_update',\n",
       " 'id',\n",
       " 'reference_property_id'}"
      ]
     },
     "execution_count": 28,
     "metadata": {},
     "output_type": "execute_result"
    }
   ],
   "source": [
    "brz_task.intersection(brz_listing)"
   ]
  },
  {
   "cell_type": "code",
   "execution_count": null,
   "id": "9a0f22a5-e907-45c9-88dc-eec74318aea5",
   "metadata": {},
   "outputs": [],
   "source": []
  },
  {
   "cell_type": "markdown",
   "id": "694e8dfc-d8d4-46ec-af36-ebff4472dac4",
   "metadata": {},
   "source": [
    "# Guesty Analysis::"
   ]
  },
  {
   "cell_type": "code",
   "execution_count": 29,
   "id": "9f8d8bc0-d5b6-4fd2-88f9-3104f7afba72",
   "metadata": {},
   "outputs": [
    {
     "data": {
      "text/plain": [
       "(12, 143)"
      ]
     },
     "execution_count": 29,
     "metadata": {},
     "output_type": "execute_result"
    }
   ],
   "source": [
    "#1.guesty listing\n",
    "df4 = pd.read_excel(\"guesty listing 10.xls\", engine=\"xlrd\")\n",
    "df4.shape"
   ]
  },
  {
   "cell_type": "code",
   "execution_count": 30,
   "id": "971a943f-c0ff-46e3-83da-6ed759dc4f2e",
   "metadata": {},
   "outputs": [
    {
     "data": {
      "text/plain": [
       "['id',\n",
       " 'listing_id',\n",
       " 'saas_auto_renew',\n",
       " 'cleaning_fee_id',\n",
       " 'cleaning_fee_value_type',\n",
       " 'cleaning_fee_formula',\n",
       " 'cleaning_fee_multiplier',\n",
       " 'channel_commission_use_account_settings',\n",
       " 'channel_commission_id',\n",
       " 'channel_commission_created_at',\n",
       " 'channel_commission_updated_at',\n",
       " 'cleaning_status',\n",
       " 'picture_caption',\n",
       " 'picture_thumbnail',\n",
       " 'minimum_nights',\n",
       " 'maximum_nights',\n",
       " 'monthly_price_factor',\n",
       " 'weekly_price_factor',\n",
       " 'base_price',\n",
       " 'weekend_base_price',\n",
       " 'currency',\n",
       " 'cleaning_fee',\n",
       " 'confirmed_before_checkin_delay_minutes',\n",
       " 'confirmed_day_of_checkin_delay_minutes',\n",
       " 'confirmed_day_of_checkout_delay_minutes',\n",
       " 'confirmed_during_stay_delay_minutes',\n",
       " 'confirmed_after_checkout_delay_minutes',\n",
       " 'unconfirmed_first_message_delay_minutes',\n",
       " 'unconfirmed_subsequent_message_delay_minutes',\n",
       " 'answeing_machine_is_active',\n",
       " 'auto_reviews_status',\n",
       " 'auto_payments_time_relation_names',\n",
       " 'auto_payments_time_relation_units',\n",
       " 'auto_payments_time_relation_amounts',\n",
       " 'pms_cleaning_status',\n",
       " 'calendar_rules_default_availability',\n",
       " 'bookingcom_cut_off_hours_enabled',\n",
       " 'expedia_cut_off_hours_enabled',\n",
       " 'airbnb_cut_off_hours_enabled',\n",
       " 'directbookings_cut_off_hours_enabled',\n",
       " 'calendar_rules_default_hours',\n",
       " 'calendar_rules_allow_request_to_book',\n",
       " 'calendar_rules_advance_notice_updated_at',\n",
       " 'calendar_rules_advance_notice_updated_by',\n",
       " 'booking_window_default_days',\n",
       " 'booking_window_updated_at',\n",
       " 'preparation_time_updated_at',\n",
       " 'dynamic_checkin_updated_at',\n",
       " 'rental_periods_request_to_book',\n",
       " 'rental_periods_ids',\n",
       " 'rental_periods_from',\n",
       " 'default_availability_updated_at',\n",
       " 'default_availability_updated_by',\n",
       " 'listing_type',\n",
       " 'owners_list',\n",
       " 'amenities_list',\n",
       " 'amenities_not_included_list',\n",
       " 'use_account_revenue_share',\n",
       " 'use_account_taxes',\n",
       " 'use_account_markups',\n",
       " 'use_account_additional_fees',\n",
       " 'is_active',\n",
       " 'net_income_formula',\n",
       " 'commission_formula',\n",
       " 'owner_revenue_formula',\n",
       " 'tax_ids',\n",
       " 'tax_types',\n",
       " 'tax_amounts',\n",
       " 'tax_names',\n",
       " 'tax_units',\n",
       " 'tax_quantifiers',\n",
       " 'taxes_applied_to_all_fees',\n",
       " 'taxes_applied_on_fees',\n",
       " 'taxes_are_applied_by_default',\n",
       " 'tax_conditional_overrides_view_types',\n",
       " 'tax_conditional_overrides_max_nights',\n",
       " 'tax___vs',\n",
       " 'pre_bookings_list',\n",
       " 'origin_id',\n",
       " 'nick_name',\n",
       " 'minimum_age',\n",
       " 'address_full',\n",
       " 'address_street',\n",
       " 'address_city',\n",
       " 'address_country',\n",
       " 'address_latitude',\n",
       " 'address_longitude',\n",
       " 'address_zip_code',\n",
       " 'address_state',\n",
       " 'address_county',\n",
       " 'room_type',\n",
       " 'property_type',\n",
       " 'ota_room_type',\n",
       " 'accommodates',\n",
       " 'bathrooms',\n",
       " 'bedrooms',\n",
       " 'beds_count',\n",
       " 'listing_status',\n",
       " 'host_name',\n",
       " 'wifi_name',\n",
       " 'wifi_password',\n",
       " 'area_in_square_feet',\n",
       " 'trash_collection_day',\n",
       " 'parking_instructions',\n",
       " 'created_at',\n",
       " 'origin',\n",
       " 'default_check_in_time',\n",
       " 'default_check_out_time',\n",
       " 'check_in_instructions',\n",
       " 'check_out_instructions',\n",
       " 'picture_ids',\n",
       " 'picture_captions',\n",
       " 'picture_originals',\n",
       " 'picture_heights',\n",
       " 'picture_widths',\n",
       " 'picture_thumbnails',\n",
       " 'account_id',\n",
       " 'time_zone',\n",
       " 'last_updated_at',\n",
       " 'integration_ids',\n",
       " 'integration_platforms',\n",
       " 'booking_com_initial_complex_listings',\n",
       " 'booking_com_publish_company_logos',\n",
       " 'booking_com_is_published_company_logos',\n",
       " 'booking_com_publish_company_infos',\n",
       " 'booking_com_is_published_company_infos',\n",
       " 'vacayhome_currencies',\n",
       " 'vacayhome_statuses',\n",
       " 'vacayhome_cancellation_policies',\n",
       " 'vacayhome_cancellation_penalties',\n",
       " 'vacayhome_creation_times',\n",
       " 'listing_room_ids',\n",
       " 'listing_room_numbers',\n",
       " 'listing_room_bed_ids',\n",
       " 'listing_room_bed_types',\n",
       " 'listing_room_bed_quantities',\n",
       " 'custom_field_ids',\n",
       " 'custom_field_field_ids',\n",
       " 'custom_field_values',\n",
       " 'import_time',\n",
       " 'date_of_first_scrape',\n",
       " 'date_of_last_update',\n",
       " 'date_of_last_scrape']"
      ]
     },
     "execution_count": 30,
     "metadata": {},
     "output_type": "execute_result"
    }
   ],
   "source": [
    "g_listing=list(df4.columns)\n",
    "g_listing"
   ]
  },
  {
   "cell_type": "code",
   "execution_count": 31,
   "id": "177a88af-3f1f-4370-8ba2-88eddb279824",
   "metadata": {},
   "outputs": [
    {
     "data": {
      "text/plain": [
       "143"
      ]
     },
     "execution_count": 31,
     "metadata": {},
     "output_type": "execute_result"
    }
   ],
   "source": [
    "len(g_listing)"
   ]
  },
  {
   "cell_type": "code",
   "execution_count": 32,
   "id": "d2b58620-e1f1-4b72-b553-f9d7c1d571d3",
   "metadata": {},
   "outputs": [],
   "source": [
    "# Orange marked columns:\n",
    "orange_marked = [\n",
    "    'listing_id', 'cleaning_fee_id', 'cleaning_fee_formula', 'cleaning_fee_multiplier',\n",
    "    'cleaning_status', 'picture_caption', 'picture_thumbnail', 'minimum_nights', 'maximum_nights',\n",
    "    'cleaning_fee', 'confirmed_before_checkin_delay_minutes', 'confirmed_day_of_checkin_delay_minutes',\n",
    "    'confirmed_day_of_checkout_delay_minutes', 'confirmed_during_stay_delay_minutes',\n",
    "    'confirmed_after_checkout_delay_minutes', 'unconfirmed_first_message_delay_minutes',\n",
    "    'unconfirmed_subsequent_message_delay_minutes', 'answeing_machine_is_active', 'pms_cleaning_status',\n",
    "    'listing_type', 'owners_list', 'amenities_list', 'amenities_not_included_list',\n",
    "    'nick_name', 'minimum_age', 'address_full', 'address_street', 'address_city', 'address_country',\n",
    "    'address_latitude', 'address_longitude', 'address_zip_code', 'address_state', 'address_county',\n",
    "    'room_type', 'property_type', 'ota_room_type', 'accommodates', 'bathrooms', 'bedrooms',\n",
    "    'beds_count', 'host_name', 'wifi_name', 'wifi_password', 'area_in_square_feet',\n",
    "    'trash_collection_day', 'parking_instructions', 'created_at', 'default_check_in_time',\n",
    "    'default_check_out_time', 'check_in_instructions', 'check_out_instructions', 'picture_ids',\n",
    "    'picture_captions', 'picture_originals', 'picture_heights', 'picture_widths', 'picture_thumbnails',\n",
    "    'account_id', 'time_zone', 'integration_ids', 'integration_platforms',\n",
    "    'booking_com_initial_complex_listings', 'booking_com_publish_company_logos',\n",
    "    'booking_com_is_published_company_logos', 'booking_com_publish_company_infos',\n",
    "    'booking_com_is_published_company_infos', 'vacayhome_currencies', 'vacayhome_statuses',\n",
    "    'vacayhome_cancellation_policies', 'vacayhome_cancellation_penalties', 'vacayhome_creation_times',\n",
    "    'listing_room_ids', 'listing_room_numbers', 'listing_room_bed_ids', 'listing_room_bed_types',\n",
    "    'listing_room_bed_quantities', 'custom_field_ids', 'custom_field_field_ids', 'custom_field_values'\n",
    "]\n"
   ]
  },
  {
   "cell_type": "code",
   "execution_count": 33,
   "id": "fd4b7c3b-3b61-4197-9293-d90c87347b58",
   "metadata": {},
   "outputs": [
    {
     "data": {
      "text/plain": [
       "['listing_id',\n",
       " 'cleaning_fee_id',\n",
       " 'cleaning_fee_formula',\n",
       " 'cleaning_fee_multiplier',\n",
       " 'cleaning_status',\n",
       " 'picture_caption',\n",
       " 'picture_thumbnail',\n",
       " 'minimum_nights',\n",
       " 'maximum_nights',\n",
       " 'cleaning_fee',\n",
       " 'confirmed_before_checkin_delay_minutes',\n",
       " 'confirmed_day_of_checkin_delay_minutes',\n",
       " 'confirmed_day_of_checkout_delay_minutes',\n",
       " 'confirmed_during_stay_delay_minutes',\n",
       " 'confirmed_after_checkout_delay_minutes',\n",
       " 'unconfirmed_first_message_delay_minutes',\n",
       " 'unconfirmed_subsequent_message_delay_minutes',\n",
       " 'answeing_machine_is_active',\n",
       " 'pms_cleaning_status',\n",
       " 'listing_type',\n",
       " 'owners_list',\n",
       " 'amenities_list',\n",
       " 'amenities_not_included_list',\n",
       " 'nick_name',\n",
       " 'minimum_age',\n",
       " 'address_full',\n",
       " 'address_street',\n",
       " 'address_city',\n",
       " 'address_country',\n",
       " 'address_latitude',\n",
       " 'address_longitude',\n",
       " 'address_zip_code',\n",
       " 'address_state',\n",
       " 'address_county',\n",
       " 'room_type',\n",
       " 'property_type',\n",
       " 'ota_room_type',\n",
       " 'accommodates',\n",
       " 'bathrooms',\n",
       " 'bedrooms',\n",
       " 'beds_count',\n",
       " 'host_name',\n",
       " 'wifi_name',\n",
       " 'wifi_password',\n",
       " 'area_in_square_feet',\n",
       " 'trash_collection_day',\n",
       " 'parking_instructions',\n",
       " 'created_at',\n",
       " 'default_check_in_time',\n",
       " 'default_check_out_time',\n",
       " 'check_in_instructions',\n",
       " 'check_out_instructions',\n",
       " 'picture_ids',\n",
       " 'picture_captions',\n",
       " 'picture_originals',\n",
       " 'picture_heights',\n",
       " 'picture_widths',\n",
       " 'picture_thumbnails',\n",
       " 'account_id',\n",
       " 'time_zone',\n",
       " 'integration_ids',\n",
       " 'integration_platforms',\n",
       " 'booking_com_initial_complex_listings',\n",
       " 'booking_com_publish_company_logos',\n",
       " 'booking_com_is_published_company_logos',\n",
       " 'booking_com_publish_company_infos',\n",
       " 'booking_com_is_published_company_infos',\n",
       " 'vacayhome_currencies',\n",
       " 'vacayhome_statuses',\n",
       " 'vacayhome_cancellation_policies',\n",
       " 'vacayhome_cancellation_penalties',\n",
       " 'vacayhome_creation_times',\n",
       " 'listing_room_ids',\n",
       " 'listing_room_numbers',\n",
       " 'listing_room_bed_ids',\n",
       " 'listing_room_bed_types',\n",
       " 'listing_room_bed_quantities',\n",
       " 'custom_field_ids',\n",
       " 'custom_field_field_ids',\n",
       " 'custom_field_values']"
      ]
     },
     "execution_count": 33,
     "metadata": {},
     "output_type": "execute_result"
    }
   ],
   "source": [
    "orange_marked"
   ]
  },
  {
   "cell_type": "code",
   "execution_count": 34,
   "id": "1ca95996-7dd7-4dbd-9a83-05d11343709f",
   "metadata": {},
   "outputs": [
    {
     "data": {
      "text/plain": [
       "80"
      ]
     },
     "execution_count": 34,
     "metadata": {},
     "output_type": "execute_result"
    }
   ],
   "source": [
    "len(orange_marked)"
   ]
  },
  {
   "cell_type": "code",
   "execution_count": 35,
   "id": "541e07db-ba0b-4428-b131-796d1c4dd45e",
   "metadata": {},
   "outputs": [
    {
     "data": {
      "text/plain": [
       "143"
      ]
     },
     "execution_count": 35,
     "metadata": {},
     "output_type": "execute_result"
    }
   ],
   "source": [
    "guesty_listing=set(df4.columns)\n",
    "len(guesty_listing)"
   ]
  },
  {
   "cell_type": "code",
   "execution_count": 36,
   "id": "979b1010-987f-45ff-bcf5-48b15c08ea75",
   "metadata": {},
   "outputs": [
    {
     "data": {
      "text/plain": [
       "(10, 12)"
      ]
     },
     "execution_count": 36,
     "metadata": {},
     "output_type": "execute_result"
    }
   ],
   "source": [
    "df5 = pd.read_excel(\"guesty owner reservation.xls\", engine=\"xlrd\")\n",
    "df5.shape"
   ]
  },
  {
   "cell_type": "code",
   "execution_count": 37,
   "id": "e4d75ade-d9be-4e45-a941-bef2869955fe",
   "metadata": {},
   "outputs": [],
   "source": [
    "guesty_owner_reservation=set(df5.columns)"
   ]
  },
  {
   "cell_type": "code",
   "execution_count": 38,
   "id": "418c06a2-2857-476e-a918-f1546c08c182",
   "metadata": {},
   "outputs": [
    {
     "data": {
      "text/plain": [
       "(10, 46)"
      ]
     },
     "execution_count": 38,
     "metadata": {},
     "output_type": "execute_result"
    }
   ],
   "source": [
    "df6 = pd.read_excel(\"guesty owner.xls\", engine=\"xlrd\")\n",
    "df6.shape"
   ]
  },
  {
   "cell_type": "code",
   "execution_count": 39,
   "id": "e1efe83d-25f5-43c3-8bb0-e52b5aa52011",
   "metadata": {},
   "outputs": [],
   "source": [
    "guesty_owner=set(df6.columns)"
   ]
  },
  {
   "cell_type": "code",
   "execution_count": null,
   "id": "ed758276-6882-47d1-a384-855182c75e0f",
   "metadata": {},
   "outputs": [],
   "source": []
  },
  {
   "cell_type": "code",
   "execution_count": 40,
   "id": "71a30584-c2ea-438d-83bb-64218c8c9a7b",
   "metadata": {},
   "outputs": [
    {
     "data": {
      "text/plain": [
       "(10, 27)"
      ]
     },
     "execution_count": 40,
     "metadata": {},
     "output_type": "execute_result"
    }
   ],
   "source": [
    "df7 = pd.read_excel(\"guesty users.xls\", engine=\"xlrd\")\n",
    "df7.shape"
   ]
  },
  {
   "cell_type": "code",
   "execution_count": 41,
   "id": "bdffc436-e4f2-40e1-a15c-0b4fd2fda102",
   "metadata": {},
   "outputs": [],
   "source": [
    "guesty_users=set(df7.columns)"
   ]
  },
  {
   "cell_type": "code",
   "execution_count": 42,
   "id": "f3d123e9-6e83-4943-bc2b-7ef95cbe21be",
   "metadata": {},
   "outputs": [
    {
     "data": {
      "text/plain": [
       "(10, 187)"
      ]
     },
     "execution_count": 42,
     "metadata": {},
     "output_type": "execute_result"
    }
   ],
   "source": [
    "df8 = pd.read_excel(\"guesty_ reservations full.xls\", engine=\"xlrd\")\n",
    "df8.shape"
   ]
  },
  {
   "cell_type": "code",
   "execution_count": 43,
   "id": "f712052f-b41e-4874-a919-a53f0f9041e3",
   "metadata": {},
   "outputs": [],
   "source": [
    "guesty_reservations_full=set(df8.columns)"
   ]
  },
  {
   "cell_type": "code",
   "execution_count": 44,
   "id": "b5236bf8-3404-44ae-bcef-6839af0e3275",
   "metadata": {},
   "outputs": [
    {
     "data": {
      "text/plain": [
       "(10, 23)"
      ]
     },
     "execution_count": 44,
     "metadata": {},
     "output_type": "execute_result"
    }
   ],
   "source": [
    "df9 = pd.read_excel(\"guesty_task.xls\", engine=\"xlrd\")\n",
    "df9.shape"
   ]
  },
  {
   "cell_type": "code",
   "execution_count": 45,
   "id": "51fddd27-be30-4373-8349-2c75ba7c5fa4",
   "metadata": {},
   "outputs": [],
   "source": [
    "guesty_task=set(df9.columns)"
   ]
  },
  {
   "cell_type": "code",
   "execution_count": 46,
   "id": "c81c9115-ba1c-4ac7-b2b3-748dab3edc21",
   "metadata": {},
   "outputs": [
    {
     "data": {
      "text/plain": [
       "187"
      ]
     },
     "execution_count": 46,
     "metadata": {},
     "output_type": "execute_result"
    }
   ],
   "source": [
    "# guesty_owner  & guesty_owner_reservation & guesty_reservations_full\n",
    "len(guesty_reservations_full)"
   ]
  },
  {
   "cell_type": "markdown",
   "id": "d2ad1bba-b86e-461b-bc0e-7671a2c1d553",
   "metadata": {},
   "source": [
    "# Finding common columns in all 6 Guesty table"
   ]
  },
  {
   "cell_type": "code",
   "execution_count": 47,
   "id": "9c4e25a0-a599-4214-99f0-f477b07fa62f",
   "metadata": {},
   "outputs": [
    {
     "name": "stdout",
     "output_type": "stream",
     "text": [
      "{'date_of_first_scrape', 'date_of_last_scrape', 'id', 'date_of_last_update'}\n"
     ]
    }
   ],
   "source": [
    "print(guesty_listing & guesty_owner_reservation & guesty_owner & guesty_users & guesty_reservations_full & guesty_task)"
   ]
  },
  {
   "cell_type": "code",
   "execution_count": 48,
   "id": "2b033a45-a9ee-4043-84a3-0c6ca88ed63f",
   "metadata": {},
   "outputs": [
    {
     "name": "stdout",
     "output_type": "stream",
     "text": [
      "{'account_id', 'date_of_last_update', 'date_of_first_scrape', 'date_of_last_scrape', 'id', 'listing_id'}\n"
     ]
    }
   ],
   "source": [
    "print(guesty_listing & guesty_owner_reservation)"
   ]
  },
  {
   "cell_type": "code",
   "execution_count": 49,
   "id": "8ba840c9-3bd5-468a-93ce-2c98697f1d65",
   "metadata": {},
   "outputs": [
    {
     "name": "stdout",
     "output_type": "stream",
     "text": [
      "{'created_at', 'account_id', 'date_of_last_update', 'date_of_first_scrape', 'date_of_last_scrape', 'id'}\n"
     ]
    }
   ],
   "source": [
    "print(guesty_listing & guesty_owner)"
   ]
  },
  {
   "cell_type": "code",
   "execution_count": 50,
   "id": "d12fa107-6d67-4cfc-baca-0a2f84c3bbec",
   "metadata": {},
   "outputs": [
    {
     "name": "stdout",
     "output_type": "stream",
     "text": [
      "{'account_id', 'date_of_last_update', 'date_of_first_scrape', 'time_zone', 'date_of_last_scrape', 'id'}\n"
     ]
    }
   ],
   "source": [
    "print(guesty_listing & guesty_users)"
   ]
  },
  {
   "cell_type": "code",
   "execution_count": 51,
   "id": "a826d743-7796-4ea6-8fc2-7c71341f8787",
   "metadata": {},
   "outputs": [
    {
     "name": "stdout",
     "output_type": "stream",
     "text": [
      "{'channel_commission_updated_at', 'tax_names', 'channel_commission_created_at', 'date_of_first_scrape', 'weekly_price_factor', 'channel_commission_id', 'net_income_formula', 'use_account_revenue_share', 'taxes_applied_on_fees', 'listing_type', 'cleaning_fee_multiplier', 'cleaning_fee_formula', 'monthly_price_factor', 'tax_amounts', 'date_of_last_scrape', 'tax_units', 'id', 'cleaning_fee', 'cleaning_fee_id', 'commission_formula', 'date_of_last_update', 'cleaning_fee_value_type', 'tax_quantifiers', 'listing_id', 'channel_commission_use_account_settings', 'owner_revenue_formula', 'tax_types', 'tax_ids', 'account_id', 'use_account_additional_fees', 'taxes_applied_to_all_fees'}\n"
     ]
    }
   ],
   "source": [
    "print(guesty_listing & guesty_reservations_full)"
   ]
  },
  {
   "cell_type": "code",
   "execution_count": 52,
   "id": "e89fe496-412a-46b9-b16e-ef859955e580",
   "metadata": {},
   "outputs": [
    {
     "name": "stdout",
     "output_type": "stream",
     "text": [
      "{'date_of_first_scrape', 'date_of_last_scrape', 'id', 'date_of_last_update'}\n"
     ]
    }
   ],
   "source": [
    "print(guesty_listing & guesty_task)"
   ]
  },
  {
   "cell_type": "code",
   "execution_count": 53,
   "id": "21af661f-8684-4976-87b7-41e358029b70",
   "metadata": {},
   "outputs": [],
   "source": [
    "l1=[guesty_listing & guesty_owner_reservation & guesty_owner & guesty_users & guesty_reservations_full & guesty_task]"
   ]
  },
  {
   "cell_type": "code",
   "execution_count": null,
   "id": "93542a2a-14ec-4b22-9096-0bb66fe43bd6",
   "metadata": {},
   "outputs": [],
   "source": []
  },
  {
   "cell_type": "markdown",
   "id": "8c70887d-4080-4f11-bcf6-8146f9b89bc4",
   "metadata": {},
   "source": [
    "# Common Columns on  posssible Combinations::"
   ]
  },
  {
   "cell_type": "code",
   "execution_count": 54,
   "id": "a9eedc3a-c053-4fa4-8605-ca4f60ef3ce0",
   "metadata": {},
   "outputs": [
    {
     "name": "stdout",
     "output_type": "stream",
     "text": [
      "Intersection of ('guesty_listing', 'guesty_owner_reservation'): {'account_id', 'date_of_last_update', 'date_of_first_scrape', 'date_of_last_scrape', 'id', 'listing_id'}\n",
      "\n",
      "\n",
      "Intersection of ('guesty_listing', 'guesty_owner'): {'created_at', 'account_id', 'date_of_last_update', 'date_of_first_scrape', 'date_of_last_scrape', 'id'}\n",
      "\n",
      "\n",
      "Intersection of ('guesty_listing', 'guesty_users'): {'account_id', 'date_of_last_update', 'date_of_first_scrape', 'time_zone', 'date_of_last_scrape', 'id'}\n",
      "\n",
      "\n",
      "Intersection of ('guesty_listing', 'guesty_reservations_full'): {'channel_commission_updated_at', 'tax_names', 'channel_commission_created_at', 'date_of_first_scrape', 'weekly_price_factor', 'channel_commission_id', 'net_income_formula', 'use_account_revenue_share', 'taxes_applied_on_fees', 'listing_type', 'cleaning_fee_multiplier', 'cleaning_fee_formula', 'monthly_price_factor', 'tax_amounts', 'date_of_last_scrape', 'tax_units', 'id', 'cleaning_fee', 'cleaning_fee_id', 'commission_formula', 'date_of_last_update', 'cleaning_fee_value_type', 'tax_quantifiers', 'listing_id', 'channel_commission_use_account_settings', 'owner_revenue_formula', 'tax_types', 'tax_ids', 'account_id', 'use_account_additional_fees', 'taxes_applied_to_all_fees'}\n",
      "\n",
      "\n",
      "Intersection of ('guesty_listing', 'guesty_task'): {'date_of_first_scrape', 'date_of_last_scrape', 'id', 'date_of_last_update'}\n",
      "\n",
      "\n",
      "Intersection of ('guesty_owner_reservation', 'guesty_owner'): {'account_id', 'date_of_last_update', 'date_of_first_scrape', 'date_of_last_scrape', 'id', 'owner_id'}\n",
      "\n",
      "\n",
      "Intersection of ('guesty_owner_reservation', 'guesty_users'): {'account_id', 'date_of_last_update', 'date_of_first_scrape', 'date_of_last_scrape', 'id'}\n",
      "\n",
      "\n",
      "Intersection of ('guesty_owner_reservation', 'guesty_reservations_full'): {'listing_title', 'reservation_id', 'account_id', 'date_of_last_update', 'date_of_first_scrape', 'date_of_last_scrape', 'id', 'listing_id'}\n",
      "\n",
      "\n",
      "Intersection of ('guesty_owner_reservation', 'guesty_task'): {'date_of_first_scrape', 'date_of_last_scrape', 'id', 'date_of_last_update'}\n",
      "\n",
      "\n",
      "Intersection of ('guesty_owner', 'guesty_users'): {'full_name', 'account_id', 'first_name', 'date_of_last_update', 'last_name', 'date_of_first_scrape', 'date_of_last_scrape', 'id'}\n",
      "\n",
      "\n",
      "Intersection of ('guesty_owner', 'guesty_reservations_full'): {'account_id', 'guest_id', 'date_of_last_update', 'date_of_first_scrape', 'date_of_last_scrape', 'id', 'host_payout'}\n",
      "\n",
      "\n",
      "Intersection of ('guesty_owner', 'guesty_task'): {'date_of_first_scrape', 'date_of_last_scrape', 'id', 'date_of_last_update'}\n",
      "\n",
      "\n",
      "Intersection of ('guesty_users', 'guesty_reservations_full'): {'account_id', 'date_of_last_update', 'date_of_first_scrape', 'date_of_last_scrape', 'id'}\n",
      "\n",
      "\n",
      "Intersection of ('guesty_users', 'guesty_task'): {'date_of_first_scrape', 'date_of_last_scrape', 'id', 'date_of_last_update'}\n",
      "\n",
      "\n",
      "Intersection of ('guesty_reservations_full', 'guesty_task'): {'date_of_first_scrape', 'date_of_last_scrape', 'id', 'date_of_last_update'}\n",
      "\n",
      "\n",
      "Intersection of ('guesty_listing', 'guesty_owner_reservation', 'guesty_owner'): {'account_id', 'date_of_last_update', 'date_of_first_scrape', 'date_of_last_scrape', 'id'}\n",
      "\n",
      "\n",
      "Intersection of ('guesty_listing', 'guesty_owner_reservation', 'guesty_users'): {'account_id', 'date_of_last_update', 'date_of_first_scrape', 'date_of_last_scrape', 'id'}\n",
      "\n",
      "\n",
      "Intersection of ('guesty_listing', 'guesty_owner_reservation', 'guesty_reservations_full'): {'account_id', 'date_of_last_update', 'date_of_first_scrape', 'date_of_last_scrape', 'id', 'listing_id'}\n",
      "\n",
      "\n",
      "Intersection of ('guesty_listing', 'guesty_owner_reservation', 'guesty_task'): {'date_of_first_scrape', 'date_of_last_scrape', 'id', 'date_of_last_update'}\n",
      "\n",
      "\n",
      "Intersection of ('guesty_listing', 'guesty_owner', 'guesty_users'): {'account_id', 'date_of_last_update', 'date_of_first_scrape', 'date_of_last_scrape', 'id'}\n",
      "\n",
      "\n",
      "Intersection of ('guesty_listing', 'guesty_owner', 'guesty_reservations_full'): {'account_id', 'date_of_last_update', 'date_of_first_scrape', 'date_of_last_scrape', 'id'}\n",
      "\n",
      "\n",
      "Intersection of ('guesty_listing', 'guesty_owner', 'guesty_task'): {'date_of_first_scrape', 'date_of_last_scrape', 'id', 'date_of_last_update'}\n",
      "\n",
      "\n",
      "Intersection of ('guesty_listing', 'guesty_users', 'guesty_reservations_full'): {'account_id', 'date_of_last_update', 'date_of_first_scrape', 'date_of_last_scrape', 'id'}\n",
      "\n",
      "\n",
      "Intersection of ('guesty_listing', 'guesty_users', 'guesty_task'): {'date_of_first_scrape', 'date_of_last_scrape', 'id', 'date_of_last_update'}\n",
      "\n",
      "\n",
      "Intersection of ('guesty_listing', 'guesty_reservations_full', 'guesty_task'): {'date_of_first_scrape', 'date_of_last_scrape', 'id', 'date_of_last_update'}\n",
      "\n",
      "\n",
      "Intersection of ('guesty_owner_reservation', 'guesty_owner', 'guesty_users'): {'account_id', 'date_of_last_update', 'date_of_first_scrape', 'date_of_last_scrape', 'id'}\n",
      "\n",
      "\n",
      "Intersection of ('guesty_owner_reservation', 'guesty_owner', 'guesty_reservations_full'): {'account_id', 'date_of_last_update', 'date_of_first_scrape', 'date_of_last_scrape', 'id'}\n",
      "\n",
      "\n",
      "Intersection of ('guesty_owner_reservation', 'guesty_owner', 'guesty_task'): {'date_of_first_scrape', 'date_of_last_scrape', 'id', 'date_of_last_update'}\n",
      "\n",
      "\n",
      "Intersection of ('guesty_owner_reservation', 'guesty_users', 'guesty_reservations_full'): {'account_id', 'date_of_last_update', 'date_of_first_scrape', 'date_of_last_scrape', 'id'}\n",
      "\n",
      "\n",
      "Intersection of ('guesty_owner_reservation', 'guesty_users', 'guesty_task'): {'date_of_first_scrape', 'date_of_last_scrape', 'id', 'date_of_last_update'}\n",
      "\n",
      "\n",
      "Intersection of ('guesty_owner_reservation', 'guesty_reservations_full', 'guesty_task'): {'date_of_first_scrape', 'date_of_last_scrape', 'id', 'date_of_last_update'}\n",
      "\n",
      "\n",
      "Intersection of ('guesty_owner', 'guesty_users', 'guesty_reservations_full'): {'account_id', 'date_of_last_update', 'date_of_first_scrape', 'date_of_last_scrape', 'id'}\n",
      "\n",
      "\n",
      "Intersection of ('guesty_owner', 'guesty_users', 'guesty_task'): {'date_of_first_scrape', 'date_of_last_scrape', 'id', 'date_of_last_update'}\n",
      "\n",
      "\n",
      "Intersection of ('guesty_owner', 'guesty_reservations_full', 'guesty_task'): {'date_of_first_scrape', 'date_of_last_scrape', 'id', 'date_of_last_update'}\n",
      "\n",
      "\n",
      "Intersection of ('guesty_users', 'guesty_reservations_full', 'guesty_task'): {'date_of_first_scrape', 'date_of_last_scrape', 'id', 'date_of_last_update'}\n",
      "\n",
      "\n",
      "Intersection of ('guesty_listing', 'guesty_owner_reservation', 'guesty_owner', 'guesty_users'): {'account_id', 'date_of_last_update', 'date_of_first_scrape', 'date_of_last_scrape', 'id'}\n",
      "\n",
      "\n",
      "Intersection of ('guesty_listing', 'guesty_owner_reservation', 'guesty_owner', 'guesty_reservations_full'): {'account_id', 'date_of_last_update', 'date_of_first_scrape', 'date_of_last_scrape', 'id'}\n",
      "\n",
      "\n",
      "Intersection of ('guesty_listing', 'guesty_owner_reservation', 'guesty_owner', 'guesty_task'): {'date_of_first_scrape', 'date_of_last_scrape', 'id', 'date_of_last_update'}\n",
      "\n",
      "\n",
      "Intersection of ('guesty_listing', 'guesty_owner_reservation', 'guesty_users', 'guesty_reservations_full'): {'account_id', 'date_of_last_update', 'date_of_first_scrape', 'date_of_last_scrape', 'id'}\n",
      "\n",
      "\n",
      "Intersection of ('guesty_listing', 'guesty_owner_reservation', 'guesty_users', 'guesty_task'): {'date_of_first_scrape', 'date_of_last_scrape', 'id', 'date_of_last_update'}\n",
      "\n",
      "\n",
      "Intersection of ('guesty_listing', 'guesty_owner_reservation', 'guesty_reservations_full', 'guesty_task'): {'date_of_first_scrape', 'date_of_last_scrape', 'id', 'date_of_last_update'}\n",
      "\n",
      "\n",
      "Intersection of ('guesty_listing', 'guesty_owner', 'guesty_users', 'guesty_reservations_full'): {'account_id', 'date_of_last_update', 'date_of_first_scrape', 'date_of_last_scrape', 'id'}\n",
      "\n",
      "\n",
      "Intersection of ('guesty_listing', 'guesty_owner', 'guesty_users', 'guesty_task'): {'date_of_first_scrape', 'date_of_last_scrape', 'id', 'date_of_last_update'}\n",
      "\n",
      "\n",
      "Intersection of ('guesty_listing', 'guesty_owner', 'guesty_reservations_full', 'guesty_task'): {'date_of_first_scrape', 'date_of_last_scrape', 'id', 'date_of_last_update'}\n",
      "\n",
      "\n",
      "Intersection of ('guesty_listing', 'guesty_users', 'guesty_reservations_full', 'guesty_task'): {'date_of_first_scrape', 'date_of_last_scrape', 'id', 'date_of_last_update'}\n",
      "\n",
      "\n",
      "Intersection of ('guesty_owner_reservation', 'guesty_owner', 'guesty_users', 'guesty_reservations_full'): {'account_id', 'date_of_last_update', 'date_of_first_scrape', 'date_of_last_scrape', 'id'}\n",
      "\n",
      "\n",
      "Intersection of ('guesty_owner_reservation', 'guesty_owner', 'guesty_users', 'guesty_task'): {'date_of_first_scrape', 'date_of_last_scrape', 'id', 'date_of_last_update'}\n",
      "\n",
      "\n",
      "Intersection of ('guesty_owner_reservation', 'guesty_owner', 'guesty_reservations_full', 'guesty_task'): {'date_of_first_scrape', 'date_of_last_scrape', 'id', 'date_of_last_update'}\n",
      "\n",
      "\n",
      "Intersection of ('guesty_owner_reservation', 'guesty_users', 'guesty_reservations_full', 'guesty_task'): {'date_of_first_scrape', 'date_of_last_scrape', 'id', 'date_of_last_update'}\n",
      "\n",
      "\n",
      "Intersection of ('guesty_owner', 'guesty_users', 'guesty_reservations_full', 'guesty_task'): {'date_of_first_scrape', 'date_of_last_scrape', 'id', 'date_of_last_update'}\n",
      "\n",
      "\n",
      "Intersection of ('guesty_listing', 'guesty_owner_reservation', 'guesty_owner', 'guesty_users', 'guesty_reservations_full'): {'account_id', 'date_of_last_update', 'date_of_first_scrape', 'date_of_last_scrape', 'id'}\n",
      "\n",
      "\n",
      "Intersection of ('guesty_listing', 'guesty_owner_reservation', 'guesty_owner', 'guesty_users', 'guesty_task'): {'date_of_first_scrape', 'date_of_last_scrape', 'id', 'date_of_last_update'}\n",
      "\n",
      "\n",
      "Intersection of ('guesty_listing', 'guesty_owner_reservation', 'guesty_owner', 'guesty_reservations_full', 'guesty_task'): {'date_of_first_scrape', 'date_of_last_scrape', 'id', 'date_of_last_update'}\n",
      "\n",
      "\n",
      "Intersection of ('guesty_listing', 'guesty_owner_reservation', 'guesty_users', 'guesty_reservations_full', 'guesty_task'): {'date_of_first_scrape', 'date_of_last_scrape', 'id', 'date_of_last_update'}\n",
      "\n",
      "\n",
      "Intersection of ('guesty_listing', 'guesty_owner', 'guesty_users', 'guesty_reservations_full', 'guesty_task'): {'date_of_first_scrape', 'date_of_last_scrape', 'id', 'date_of_last_update'}\n",
      "\n",
      "\n",
      "Intersection of ('guesty_owner_reservation', 'guesty_owner', 'guesty_users', 'guesty_reservations_full', 'guesty_task'): {'date_of_first_scrape', 'date_of_last_scrape', 'id', 'date_of_last_update'}\n",
      "\n",
      "\n",
      "Intersection of ('guesty_listing', 'guesty_owner_reservation', 'guesty_owner', 'guesty_users', 'guesty_reservations_full', 'guesty_task'): {'date_of_first_scrape', 'date_of_last_scrape', 'id', 'date_of_last_update'}\n",
      "\n",
      "\n"
     ]
    }
   ],
   "source": [
    "from itertools import combinations\n",
    "\n",
    "# Store tables in a dictionary\n",
    "tables = {\n",
    "    \"guesty_listing\": guesty_listing,\n",
    "    \"guesty_owner_reservation\": guesty_owner_reservation,\n",
    "    \"guesty_owner\": guesty_owner,\n",
    "    \"guesty_users\": guesty_users,\n",
    "    \"guesty_reservations_full\": guesty_reservations_full,\n",
    "    \"guesty_task\": guesty_task,\n",
    "}\n",
    "\n",
    "# Iterate through all possible combinations and compute intersections\n",
    "counter=0\n",
    "for r in range(2, len(tables) + 1):  \n",
    "    for combo in combinations(tables.keys(), r):\n",
    "        counter+=1\n",
    "        intersection_set = set.intersection(*(tables[name] for name in combo))\n",
    "        print(f\"Intersection of {combo}: {intersection_set}\\n\\n\")\n"
   ]
  },
  {
   "cell_type": "code",
   "execution_count": 55,
   "id": "38676399-9ad3-4983-9f6d-834ed9df282d",
   "metadata": {},
   "outputs": [
    {
     "name": "stdout",
     "output_type": "stream",
     "text": [
      "57\n"
     ]
    }
   ],
   "source": [
    "print(counter)"
   ]
  },
  {
   "cell_type": "markdown",
   "id": "a08fb1fa-a751-4176-9986-7f5df397630a",
   "metadata": {},
   "source": [
    "## guesty_lisiting & Brrezaway_lisiting\n"
   ]
  },
  {
   "cell_type": "code",
   "execution_count": 56,
   "id": "f90f6acc-ab37-4a9c-92c7-6afe322878a0",
   "metadata": {},
   "outputs": [
    {
     "data": {
      "text/plain": [
       "{'date_of_first_scrape', 'date_of_last_scrape', 'date_of_last_update', 'id'}"
      ]
     },
     "execution_count": 56,
     "metadata": {},
     "output_type": "execute_result"
    }
   ],
   "source": [
    "#COMMON COLUMNS IN guesty_lisiting & Brrezaway_lisiting¶\n",
    "guesty_listing.intersection(brz_listing)"
   ]
  },
  {
   "cell_type": "code",
   "execution_count": 57,
   "id": "f48f044f-e5d8-4502-8755-944b15d71f15",
   "metadata": {},
   "outputs": [
    {
     "data": {
      "text/plain": [
       "143"
      ]
     },
     "execution_count": 57,
     "metadata": {},
     "output_type": "execute_result"
    }
   ],
   "source": [
    "#guesty_listing total columns\n",
    "len(guesty_listing)"
   ]
  },
  {
   "cell_type": "code",
   "execution_count": 58,
   "id": "ab3e6bd9-1f5a-4a84-a541-ecb1db129123",
   "metadata": {},
   "outputs": [],
   "source": [
    "# Orange marked columns of guesty:\n",
    "orange_marked = [\n",
    "    'listing_id', 'cleaning_fee_id', 'cleaning_fee_formula', 'cleaning_fee_multiplier',\n",
    "    'cleaning_status', 'picture_caption', 'picture_thumbnail', 'minimum_nights', 'maximum_nights',\n",
    "    'cleaning_fee', 'confirmed_before_checkin_delay_minutes', 'confirmed_day_of_checkin_delay_minutes',\n",
    "    'confirmed_day_of_checkout_delay_minutes', 'confirmed_during_stay_delay_minutes',\n",
    "    'confirmed_after_checkout_delay_minutes', 'unconfirmed_first_message_delay_minutes',\n",
    "    'unconfirmed_subsequent_message_delay_minutes', 'answeing_machine_is_active', 'pms_cleaning_status',\n",
    "    'listing_type', 'owners_list', 'amenities_list', 'amenities_not_included_list',\n",
    "    'nick_name', 'minimum_age', 'address_full', 'address_street', 'address_city', 'address_country',\n",
    "    'address_latitude', 'address_longitude', 'address_zip_code', 'address_state', 'address_county',\n",
    "    'room_type', 'property_type', 'ota_room_type', 'accommodates', 'bathrooms', 'bedrooms',\n",
    "    'beds_count', 'host_name', 'wifi_name', 'wifi_password', 'area_in_square_feet',\n",
    "    'trash_collection_day', 'parking_instructions', 'created_at', 'default_check_in_time',\n",
    "    'default_check_out_time', 'check_in_instructions', 'check_out_instructions', 'picture_ids',\n",
    "    'picture_captions', 'picture_originals', 'picture_heights', 'picture_widths', 'picture_thumbnails',\n",
    "    'account_id', 'time_zone', 'integration_ids', 'integration_platforms',\n",
    "    'booking_com_initial_complex_listings', 'booking_com_publish_company_logos',\n",
    "    'booking_com_is_published_company_logos', 'booking_com_publish_company_infos',\n",
    "    'booking_com_is_published_company_infos', 'vacayhome_currencies', 'vacayhome_statuses',\n",
    "    'vacayhome_cancellation_policies', 'vacayhome_cancellation_penalties', 'vacayhome_creation_times',\n",
    "    'listing_room_ids', 'listing_room_numbers', 'listing_room_bed_ids', 'listing_room_bed_types',\n",
    "    'listing_room_bed_quantities', 'custom_field_ids', 'custom_field_field_ids', 'custom_field_values'\n",
    "]\n"
   ]
  },
  {
   "cell_type": "code",
   "execution_count": 59,
   "id": "2faf4306-1b93-4d90-8149-8add5bb8a1da",
   "metadata": {},
   "outputs": [
    {
     "name": "stdout",
     "output_type": "stream",
     "text": [
      "F\n",
      "F\n",
      "F\n",
      "F\n"
     ]
    }
   ],
   "source": [
    "l=['date_of_first_scrape', 'date_of_last_scrape', 'date_of_last_update', 'id']\n",
    "for i in range(0,len(l)):\n",
    "    if l[i] in orange_marked:\n",
    "        print(\"T\")\n",
    "    else:\n",
    "        print(\"F\")"
   ]
  },
  {
   "cell_type": "code",
   "execution_count": 60,
   "id": "19d2ff5b-37bf-4003-ae80-77bfd3de4f26",
   "metadata": {},
   "outputs": [
    {
     "data": {
      "text/plain": [
       "{'Unnamed: 29',\n",
       " 'Unnamed: 30',\n",
       " 'Unnamed: 31',\n",
       " 'Unnamed: 32',\n",
       " 'Unnamed: 33',\n",
       " 'Unnamed: 34',\n",
       " 'Unnamed: 35',\n",
       " 'Unnamed: 36',\n",
       " 'Unnamed: 37',\n",
       " 'Unnamed: 38',\n",
       " 'Unnamed: 39',\n",
       " 'Unnamed: 40',\n",
       " 'Unnamed: 41',\n",
       " 'Unnamed: 42',\n",
       " 'Unnamed: 43',\n",
       " 'Unnamed: 44',\n",
       " 'Unnamed: 45',\n",
       " 'Unnamed: 46',\n",
       " 'date_of_first_scrape',\n",
       " 'date_of_last_scrape',\n",
       " 'date_of_last_update',\n",
       " 'id',\n",
       " 'property_address1',\n",
       " 'property_address2',\n",
       " 'property_building',\n",
       " 'property_city',\n",
       " 'property_company_id',\n",
       " 'property_country',\n",
       " 'property_display',\n",
       " 'property_id',\n",
       " 'property_latitude',\n",
       " 'property_longitude',\n",
       " 'property_name',\n",
       " 'property_notes_access',\n",
       " 'property_notes_general',\n",
       " 'property_notes_guest_access',\n",
       " 'property_photos_caption',\n",
       " 'property_photos_default',\n",
       " 'property_photos_id',\n",
       " 'property_photos_original_url',\n",
       " 'property_photos_url',\n",
       " 'property_state',\n",
       " 'property_status',\n",
       " 'property_zipcode',\n",
       " 'reference_company_id',\n",
       " 'reference_external_property_id',\n",
       " 'reference_property_id'}"
      ]
     },
     "execution_count": 60,
     "metadata": {},
     "output_type": "execute_result"
    }
   ],
   "source": [
    "brz_listing"
   ]
  },
  {
   "cell_type": "code",
   "execution_count": 61,
   "id": "f24e6942-b39b-4066-af09-edac4ee1f57c",
   "metadata": {},
   "outputs": [
    {
     "data": {
      "text/plain": [
       "47"
      ]
     },
     "execution_count": 61,
     "metadata": {},
     "output_type": "execute_result"
    }
   ],
   "source": [
    "#Total columns:29,all columns except 4 columns: 'property_status', 'date_of_first_scrape',\n",
    "#'date_of_last_scrape' and 'date_of_last_update' were marked red\n",
    "len(brz_listing)"
   ]
  },
  {
   "cell_type": "code",
   "execution_count": 62,
   "id": "9e04c78e-6d3e-4f32-9b98-fd6bceb6b9bb",
   "metadata": {},
   "outputs": [
    {
     "data": {
      "text/plain": [
       "25"
      ]
     },
     "execution_count": 62,
     "metadata": {},
     "output_type": "execute_result"
    }
   ],
   "source": [
    "#Red marked column Breezeaway\n",
    "red_marked=[\n",
    " 'id',\n",
    " 'property_address1',\n",
    " 'property_address2',\n",
    " 'property_building',\n",
    " 'property_city',\n",
    " 'property_company_id',\n",
    " 'property_country',\n",
    " 'property_display',\n",
    " 'property_id',\n",
    " 'property_latitude',\n",
    " 'property_longitude',\n",
    " 'property_name',\n",
    " 'property_notes_access',\n",
    " 'property_notes_general',\n",
    " 'property_notes_guest_access',\n",
    " 'property_photos_caption',\n",
    " 'property_photos_default',\n",
    " 'property_photos_id',\n",
    " 'property_photos_original_url',\n",
    " 'property_photos_url',\n",
    " 'property_state',\n",
    " 'property_zipcode',\n",
    " 'reference_company_id',\n",
    " 'reference_external_property_id',\n",
    " 'reference_property_id']\n",
    "len(red_marked)"
   ]
  },
  {
   "cell_type": "code",
   "execution_count": 63,
   "id": "49278286-21fe-4c1d-9df4-898e80cc39a9",
   "metadata": {},
   "outputs": [
    {
     "data": {
      "text/plain": [
       "80"
      ]
     },
     "execution_count": 63,
     "metadata": {},
     "output_type": "execute_result"
    }
   ],
   "source": [
    "# Orange marked columns of guesty:\n",
    "orange_marked = [\n",
    "    'listing_id', 'cleaning_fee_id', 'cleaning_fee_formula', 'cleaning_fee_multiplier',\n",
    "    'cleaning_status', 'picture_caption', 'picture_thumbnail', 'minimum_nights', 'maximum_nights',\n",
    "    'cleaning_fee', 'confirmed_before_checkin_delay_minutes', 'confirmed_day_of_checkin_delay_minutes',\n",
    "    'confirmed_day_of_checkout_delay_minutes', 'confirmed_during_stay_delay_minutes',\n",
    "    'confirmed_after_checkout_delay_minutes', 'unconfirmed_first_message_delay_minutes',\n",
    "    'unconfirmed_subsequent_message_delay_minutes', 'answeing_machine_is_active', 'pms_cleaning_status',\n",
    "    'listing_type', 'owners_list', 'amenities_list', 'amenities_not_included_list',\n",
    "    'nick_name', 'minimum_age', 'address_full', 'address_street', 'address_city', 'address_country',\n",
    "    'address_latitude', 'address_longitude', 'address_zip_code', 'address_state', 'address_county',\n",
    "    'room_type', 'property_type', 'ota_room_type', 'accommodates', 'bathrooms', 'bedrooms',\n",
    "    'beds_count', 'host_name', 'wifi_name', 'wifi_password', 'area_in_square_feet',\n",
    "    'trash_collection_day', 'parking_instructions', 'created_at', 'default_check_in_time',\n",
    "    'default_check_out_time', 'check_in_instructions', 'check_out_instructions', 'picture_ids',\n",
    "    'picture_captions', 'picture_originals', 'picture_heights', 'picture_widths', 'picture_thumbnails',\n",
    "    'account_id', 'time_zone', 'integration_ids', 'integration_platforms',\n",
    "    'booking_com_initial_complex_listings', 'booking_com_publish_company_logos',\n",
    "    'booking_com_is_published_company_logos', 'booking_com_publish_company_infos',\n",
    "    'booking_com_is_published_company_infos', 'vacayhome_currencies', 'vacayhome_statuses',\n",
    "    'vacayhome_cancellation_policies', 'vacayhome_cancellation_penalties', 'vacayhome_creation_times',\n",
    "    'listing_room_ids', 'listing_room_numbers', 'listing_room_bed_ids', 'listing_room_bed_types',\n",
    "    'listing_room_bed_quantities', 'custom_field_ids', 'custom_field_field_ids', 'custom_field_values'\n",
    "]\n",
    "len(orange_marked)"
   ]
  },
  {
   "cell_type": "code",
   "execution_count": 64,
   "id": "59a814b0-8e9f-4f1e-a01c-627361ab5d4f",
   "metadata": {},
   "outputs": [
    {
     "name": "stdout",
     "output_type": "stream",
     "text": [
      "F\n",
      "F\n",
      "F\n",
      "T\n"
     ]
    }
   ],
   "source": [
    "l=['date_of_first_scrape', 'date_of_last_scrape', 'date_of_last_update', 'id']\n",
    "for i in range(0,len(l)):\n",
    "    if l[i] in red_marked:\n",
    "        print(\"T\")\n",
    "    else:\n",
    "        print(\"F\")"
   ]
  },
  {
   "cell_type": "markdown",
   "id": "79debc0c-17d2-4215-acc0-6d96b4978677",
   "metadata": {},
   "source": [
    "## BREEZEAWAY RESERVATION & GUESTY_RESERVATION_FULL"
   ]
  },
  {
   "cell_type": "code",
   "execution_count": 65,
   "id": "e6429495-483f-4407-a519-4fc1888176e4",
   "metadata": {},
   "outputs": [],
   "source": [
    "df10=pd.read_excel(\"breezeway reservations.xls\",engine=\"xlrd\")\n",
    "df11=pd.read_excel(\"guesty_ reservations full.xls\",engine=\"xlrd\")"
   ]
  },
  {
   "cell_type": "code",
   "execution_count": 66,
   "id": "c7b647ef-d910-40fb-a9e9-198650e56208",
   "metadata": {},
   "outputs": [],
   "source": [
    "breezeway_reservations=set(df10.columns) ##breezeway reservations\n",
    "guesty_reservations_full=set(df11.columns)## guesty_reservations_full"
   ]
  },
  {
   "cell_type": "markdown",
   "id": "626f0f52-a655-4d96-9108-84f2f25120f7",
   "metadata": {},
   "source": [
    "## Breezeaway_Reservations column"
   ]
  },
  {
   "cell_type": "code",
   "execution_count": 67,
   "id": "0bcd1006-a0f7-4f00-a82e-edeb0aa6633f",
   "metadata": {},
   "outputs": [
    {
     "data": {
      "text/plain": [
       "{'access_code',\n",
       " 'checkin_date',\n",
       " 'checkin_early',\n",
       " 'checkin_time',\n",
       " 'checkout_date',\n",
       " 'checkout_late',\n",
       " 'checkout_time',\n",
       " 'date_of_first_scrape',\n",
       " 'date_of_last_scrape',\n",
       " 'date_of_last_update',\n",
       " 'guest_type_code',\n",
       " 'guest_type_name',\n",
       " 'guests_email',\n",
       " 'guests_first_name',\n",
       " 'guests_last_name',\n",
       " 'guests_phone_country_code',\n",
       " 'guests_phone_dial_code',\n",
       " 'guests_phone_is_primary',\n",
       " 'guests_phone_number',\n",
       " 'guests_phone_number_type',\n",
       " 'guide_url',\n",
       " 'id',\n",
       " 'note',\n",
       " 'notes_access',\n",
       " 'notes_general',\n",
       " 'notes_guest_access',\n",
       " 'property_id',\n",
       " 'reference_external_property_id',\n",
       " 'reference_property_id',\n",
       " 'reference_reservation_id',\n",
       " 'reservation_id',\n",
       " 'reservation_type_code',\n",
       " 'reservation_type_name',\n",
       " 'status',\n",
       " 'stay_type_code',\n",
       " 'stay_type_name'}"
      ]
     },
     "execution_count": 67,
     "metadata": {},
     "output_type": "execute_result"
    }
   ],
   "source": [
    "breezeway_reservations"
   ]
  },
  {
   "cell_type": "code",
   "execution_count": 68,
   "id": "94bf8c20-c11a-48bd-9a67-07995a59bc31",
   "metadata": {},
   "outputs": [
    {
     "data": {
      "text/plain": [
       "36"
      ]
     },
     "execution_count": 68,
     "metadata": {},
     "output_type": "execute_result"
    }
   ],
   "source": [
    "len(breezeway_reservations)"
   ]
  },
  {
   "cell_type": "markdown",
   "id": "66d3a216-d67a-4308-b074-88551464f65c",
   "metadata": {},
   "source": [
    "## guesty_reservations_full Columns"
   ]
  },
  {
   "cell_type": "code",
   "execution_count": 69,
   "id": "0ea45b0e-ee30-4e87-abc7-f758d8f017e2",
   "metadata": {},
   "outputs": [
    {
     "data": {
      "text/plain": [
       "{'account_id',\n",
       " 'additional_fees_account_ids',\n",
       " 'additional_fees_all_platforms',\n",
       " 'additional_fees_all_ru_sources',\n",
       " 'additional_fees_all_sources',\n",
       " 'additional_fees_ids',\n",
       " 'additional_fees_is_automated',\n",
       " 'additional_fees_is_bundled',\n",
       " 'additional_fees_is_deducted',\n",
       " 'additional_fees_is_percentage',\n",
       " 'additional_fees_listing_ids',\n",
       " 'additional_fees_multipliers',\n",
       " 'additional_fees_names',\n",
       " 'additional_fees_target_fees',\n",
       " 'additional_fees_types',\n",
       " 'additional_fees_values',\n",
       " 'airbnb_cancellation_penalty_amount',\n",
       " 'airbnb_cancellation_reasons',\n",
       " 'airbnb_cancellation_sub_reasons',\n",
       " 'airbnb_external_listing_id',\n",
       " 'airbnb_id',\n",
       " 'airbnb_status',\n",
       " 'are_sync_to_supported_channels_enabled',\n",
       " 'automations_sources',\n",
       " 'balance_due',\n",
       " 'cancellation_policy',\n",
       " 'channel_commission_created_at',\n",
       " 'channel_commission_id',\n",
       " 'channel_commission_updated_at',\n",
       " 'channel_commission_use_account_settings',\n",
       " 'check_in',\n",
       " 'check_in_date_localized',\n",
       " 'check_out',\n",
       " 'check_out_date_localized',\n",
       " 'cleaning_fee',\n",
       " 'cleaning_fee_formula',\n",
       " 'cleaning_fee_id',\n",
       " 'cleaning_fee_multiplier',\n",
       " 'cleaning_fee_value_type',\n",
       " 'commission',\n",
       " 'commission_formula',\n",
       " 'commission_inc_tax',\n",
       " 'commission_tax',\n",
       " 'commission_tax_percentage',\n",
       " 'confirmation_code',\n",
       " 'currency_conversion_rate_to_account',\n",
       " 'currency_from',\n",
       " 'currency_rate',\n",
       " 'currency_rate_date',\n",
       " 'currency_to',\n",
       " 'date_of_first_scrape',\n",
       " 'date_of_last_scrape',\n",
       " 'date_of_last_update',\n",
       " 'deducted_fees_applied_amounts',\n",
       " 'deducted_fees_titles',\n",
       " 'deducted_fees_types',\n",
       " 'fare_accommodation_adjusted',\n",
       " 'fare_accommodation_adjustment',\n",
       " 'fare_accommodation_bundle_fees_applied',\n",
       " 'fare_accommodation_discount',\n",
       " 'fare_accomodation',\n",
       " 'guest_email',\n",
       " 'guest_first_name',\n",
       " 'guest_full_name',\n",
       " 'guest_hometown',\n",
       " 'guest_id',\n",
       " 'guest_large_image',\n",
       " 'guest_last_name',\n",
       " 'guest_notes',\n",
       " 'guest_phone',\n",
       " 'guest_regular_image',\n",
       " 'guest_stay_created_at',\n",
       " 'guest_stay_status',\n",
       " 'guest_stay_updated_at',\n",
       " 'guest_thumbnail',\n",
       " 'guests_count',\n",
       " 'host_original_payout',\n",
       " 'host_payout',\n",
       " 'host_payout_usd',\n",
       " 'host_service_fee',\n",
       " 'host_service_fee_inc_tax',\n",
       " 'host_service_fee_tax',\n",
       " 'id',\n",
       " 'invoices_amount',\n",
       " 'invoices_base_amount',\n",
       " 'invoices_currency',\n",
       " 'invoices_id',\n",
       " 'invoices_is_locked',\n",
       " 'invoices_normal_type',\n",
       " 'invoices_origin',\n",
       " 'invoices_ref_id',\n",
       " 'invoices_second_identifier',\n",
       " 'invoices_title',\n",
       " 'invoices_type',\n",
       " 'is_fully_paid',\n",
       " 'is_returning_guest',\n",
       " 'listing_currency',\n",
       " 'listing_full_address',\n",
       " 'listing_id',\n",
       " 'listing_nickname',\n",
       " 'listing_thumbnail',\n",
       " 'listing_timezone',\n",
       " 'listing_title',\n",
       " 'listing_type',\n",
       " 'log___vs',\n",
       " 'log_change_diffs_added',\n",
       " 'log_change_diffs_removed',\n",
       " 'log_change_diffs_value',\n",
       " 'log_change_fields',\n",
       " 'log_events',\n",
       " 'log_ids',\n",
       " 'log_reservation_ids',\n",
       " 'log_times',\n",
       " 'money_altered',\n",
       " 'money_created_at',\n",
       " 'money_currency',\n",
       " 'money_id',\n",
       " 'money_markup',\n",
       " 'money_platform',\n",
       " 'money_total_paid',\n",
       " 'money_total_refunded',\n",
       " 'money_updated_at',\n",
       " 'money_version',\n",
       " 'monthly_price_factor',\n",
       " 'net_income',\n",
       " 'net_income_formula',\n",
       " 'nightly_rate_invoice_items_calculated_by_guesty',\n",
       " 'nightly_rate_invoice_items_id',\n",
       " 'nightly_rate_invoice_items_normal_type',\n",
       " 'nightly_rate_invoice_items_origin',\n",
       " 'nightly_rate_invoice_items_ref_id',\n",
       " 'nightly_rate_invoice_items_title',\n",
       " 'nightly_rate_invoice_items_total_nights_price',\n",
       " 'nightly_rate_invoice_items_total_price',\n",
       " 'nightly_rate_nights_breakdown_base_prices',\n",
       " 'nightly_rate_nights_breakdown_dates',\n",
       " 'nightly_rate_nights_breakdown_ids',\n",
       " 'nights_count',\n",
       " 'number_of_adults',\n",
       " 'number_of_children',\n",
       " 'number_of_infants',\n",
       " 'number_of_pets',\n",
       " 'owner_revenue',\n",
       " 'owner_revenue_formula',\n",
       " 'payment_provider_ids',\n",
       " 'payments_amount',\n",
       " 'payments_created_at',\n",
       " 'payments_currency',\n",
       " 'payments_due',\n",
       " 'payments_id',\n",
       " 'payments_is_authorization_hold',\n",
       " 'payments_is_security_deposit',\n",
       " 'payments_payment_method_id',\n",
       " 'payments_payment_method_status',\n",
       " 'payments_should_be_paid_at',\n",
       " 'payments_status',\n",
       " 'planned_arrival',\n",
       " 'planned_departure',\n",
       " 'reservation_confirmed_at',\n",
       " 'reservation_created_at',\n",
       " 'reservation_days_in_advance',\n",
       " 'reservation_id',\n",
       " 'reservation_integration_id',\n",
       " 'reservation_integration_platform',\n",
       " 'reservation_is_manually_created',\n",
       " 'reservation_key_code',\n",
       " 'reservation_should_review',\n",
       " 'reservation_status',\n",
       " 'source',\n",
       " 'sub_total_price',\n",
       " 'tax_amounts',\n",
       " 'tax_ids',\n",
       " 'tax_names',\n",
       " 'tax_quantifiers',\n",
       " 'tax_types',\n",
       " 'tax_units',\n",
       " 'taxes_applied_on_fees',\n",
       " 'taxes_applied_to_all_fees',\n",
       " 'taxes_is_applied_by_default',\n",
       " 'taxes_max_nights_to_apply_on',\n",
       " 'taxes_view_types',\n",
       " 'total_fees',\n",
       " 'total_taxes',\n",
       " 'transient_occupancy_tax',\n",
       " 'use_account_additional_fees',\n",
       " 'use_account_revenue_share',\n",
       " 'weekly_price_factor'}"
      ]
     },
     "execution_count": 69,
     "metadata": {},
     "output_type": "execute_result"
    }
   ],
   "source": [
    "guesty_reservations_full"
   ]
  },
  {
   "cell_type": "code",
   "execution_count": 70,
   "id": "bdb14c3d-9d61-4eb2-b330-d7b6db95815d",
   "metadata": {},
   "outputs": [
    {
     "data": {
      "text/plain": [
       "187"
      ]
     },
     "execution_count": 70,
     "metadata": {},
     "output_type": "execute_result"
    }
   ],
   "source": [
    "len(guesty_reservations_full)"
   ]
  },
  {
   "cell_type": "markdown",
   "id": "aaab9e42-7c92-47d0-861c-bcd4344eb07a",
   "metadata": {},
   "source": [
    "## COMMON COLUMNS"
   ]
  },
  {
   "cell_type": "code",
   "execution_count": 71,
   "id": "14398e5c-2370-4eb5-ad2c-75dea109a07b",
   "metadata": {},
   "outputs": [
    {
     "data": {
      "text/plain": [
       "{'date_of_first_scrape',\n",
       " 'date_of_last_scrape',\n",
       " 'date_of_last_update',\n",
       " 'id',\n",
       " 'reservation_id'}"
      ]
     },
     "execution_count": 71,
     "metadata": {},
     "output_type": "execute_result"
    }
   ],
   "source": [
    "breezeway_reservations.intersection(guesty_reservations_full)    "
   ]
  },
  {
   "cell_type": "markdown",
   "id": "fe41cf21-17de-432a-a359-2c0da25f5460",
   "metadata": {},
   "source": [
    "## Common Columns of {'date_of_first_scrape','date_of_last_scrape', 'date_of_last_update','id','reservation_id'}\n",
    "\n",
    "\n",
    "## Breezeway_Reservations & guesty_reservations_full"
   ]
  },
  {
   "cell_type": "markdown",
   "id": "ac873af7-e5fc-495c-8ef0-70cbdbf46eb1",
   "metadata": {},
   "source": [
    "# CHECKING FOR COMMON VALUES FOR ID COLUMN"
   ]
  },
  {
   "cell_type": "code",
   "execution_count": 72,
   "id": "3a58e64c-bcb9-4c90-beca-8c8c921379b8",
   "metadata": {},
   "outputs": [],
   "source": [
    "st1=set(df10['id'])"
   ]
  },
  {
   "cell_type": "code",
   "execution_count": 73,
   "id": "28ee77e9-3ddd-4637-a437-eaefc0d7779d",
   "metadata": {},
   "outputs": [],
   "source": [
    "st2=set(df11['id'])"
   ]
  },
  {
   "cell_type": "code",
   "execution_count": 74,
   "id": "cd96941a-65d7-4fef-a2b8-a7078a822e93",
   "metadata": {},
   "outputs": [
    {
     "data": {
      "text/plain": [
       "set()"
      ]
     },
     "execution_count": 74,
     "metadata": {},
     "output_type": "execute_result"
    }
   ],
   "source": [
    "st1.intersection(st2)#No common id found"
   ]
  },
  {
   "cell_type": "code",
   "execution_count": 75,
   "id": "2c6de58c-00c4-4b27-bfa6-e9f2b5a6de33",
   "metadata": {},
   "outputs": [
    {
     "data": {
      "text/plain": [
       "set()"
      ]
     },
     "execution_count": 75,
     "metadata": {},
     "output_type": "execute_result"
    }
   ],
   "source": [
    "st1=set(df10['reservation_id'])\n",
    "st2=set(df11['reservation_id'])\n",
    "st1 & st2                        ##No common reservation id found"
   ]
  },
  {
   "cell_type": "code",
   "execution_count": 76,
   "id": "bc1ace91-4ea3-4cae-b300-a70b2a70b6b3",
   "metadata": {},
   "outputs": [
    {
     "data": {
      "text/plain": [
       "set()"
      ]
     },
     "execution_count": 76,
     "metadata": {},
     "output_type": "execute_result"
    }
   ],
   "source": [
    "st1=set(df10['date_of_first_scrape'])\n",
    "st2=set(df11['date_of_first_scrape'])\n",
    "st1 & st2      "
   ]
  },
  {
   "cell_type": "code",
   "execution_count": 77,
   "id": "76c99a90-99a7-43cc-ace7-75d79c2446fd",
   "metadata": {},
   "outputs": [
    {
     "data": {
      "text/plain": [
       "set()"
      ]
     },
     "execution_count": 77,
     "metadata": {},
     "output_type": "execute_result"
    }
   ],
   "source": [
    "#'date_of_last_scrape'\n",
    "st1=set(df10['date_of_last_scrape'])\n",
    "st2=set(df11['date_of_last_scrape'])\n",
    "st1 & st2      "
   ]
  },
  {
   "cell_type": "code",
   "execution_count": 78,
   "id": "6ebc6e9d-0c25-456a-8b53-4425aea9fc1a",
   "metadata": {},
   "outputs": [
    {
     "data": {
      "text/plain": [
       "set()"
      ]
     },
     "execution_count": 78,
     "metadata": {},
     "output_type": "execute_result"
    }
   ],
   "source": [
    "#'date_of_last_scrape'\n",
    "st1=set(df10['date_of_last_update'])\n",
    "st2=set(df11['date_of_last_update'])\n",
    "st1 & st2      "
   ]
  },
  {
   "cell_type": "code",
   "execution_count": 79,
   "id": "02028703-b041-482b-8613-eeceea6b2659",
   "metadata": {},
   "outputs": [
    {
     "data": {
      "text/plain": [
       "{'date_of_first_scrape', 'date_of_last_scrape', 'date_of_last_update', 'id'}"
      ]
     },
     "execution_count": 79,
     "metadata": {},
     "output_type": "execute_result"
    }
   ],
   "source": [
    "#l1=['id', 'date_of_last_update', 'account_id', 'date_of_last_scrape', 'date_of_first_scrape']\n",
    "guesty_owner_reservation & guesty_owner & breezeway_reservations & guesty_reservations_full"
   ]
  },
  {
   "cell_type": "code",
   "execution_count": 8,
   "id": "05d780d1-3506-4271-a3c4-afe2e5504af5",
   "metadata": {
    "scrolled": true
   },
   "outputs": [
    {
     "name": "stdout",
     "output_type": "stream",
     "text": [
      "[[\"This is Jack's favourite pineapple\"]]\n"
     ]
    }
   ],
   "source": [
    "import chromadb\n",
    "chroma_client = chromadb.Client()\n",
    "\n",
    "# switch `create_collection` to `get_or_create_collection` to avoid creating a new collection every time\n",
    "collection = chroma_client.get_or_create_collection(name=\"my_collection\")\n",
    "\n",
    "# switch `add` to `upsert` to avoid adding the same documents every time\n",
    "collection.upsert(\n",
    "    documents=[\n",
    "        \"This is Jack's favourite pineapple\",\n",
    "        \"oranges are citrous fruit\"\n",
    "    ],\n",
    "    ids=[\"id1\", \"id2\"]\n",
    ")\n",
    "\n",
    "results = collection.query(\n",
    "    query_texts=[\" Jack loves pineapple.\"], # Chroma will embed this for you\n",
    "    n_results=1 # how many results to return\n",
    ")\n",
    "\n",
    "print(results['documents'])\n"
   ]
  },
  {
   "cell_type": "code",
   "execution_count": null,
   "id": "6c7710f8-ef4e-408a-82c6-4ec93f849226",
   "metadata": {},
   "outputs": [],
   "source": []
  }
 ],
 "metadata": {
  "kernelspec": {
   "display_name": "Python 3 (ipykernel)",
   "language": "python",
   "name": "python3"
  },
  "language_info": {
   "codemirror_mode": {
    "name": "ipython",
    "version": 3
   },
   "file_extension": ".py",
   "mimetype": "text/x-python",
   "name": "python",
   "nbconvert_exporter": "python",
   "pygments_lexer": "ipython3",
   "version": "3.12.3"
  }
 },
 "nbformat": 4,
 "nbformat_minor": 5
}
